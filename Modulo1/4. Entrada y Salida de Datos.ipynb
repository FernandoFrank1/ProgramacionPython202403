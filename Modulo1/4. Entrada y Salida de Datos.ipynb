{
 "cells": [
  {
   "cell_type": "markdown",
   "metadata": {},
   "source": [
    "# ENTRADA Y SALIDA DE DATOS"
   ]
  },
  {
   "cell_type": "markdown",
   "metadata": {},
   "source": [
    "## 1. Entrada de Información por teclado (Input)"
   ]
  },
  {
   "cell_type": "markdown",
   "metadata": {},
   "source": [
    "En python la funcion input() nos ayudará con la tarea de capturar datos del usuario"
   ]
  },
  {
   "cell_type": "code",
   "execution_count": 1,
   "metadata": {},
   "outputs": [
    {
     "data": {
      "text/plain": [
       "'10.5'"
      ]
     },
     "execution_count": 1,
     "metadata": {},
     "output_type": "execute_result"
    }
   ],
   "source": [
    "# input por defecto nos devuelve datos de tipo texto\n",
    "# SHIFT + ENTER -> EJECUTAR CELDA ACTUAL Y IR A LA SIGUIENTE CELDA\n",
    "# CONTROL + ENTER -> EJECUTAR CELDA ACTUAL\n",
    "numero = input(\"Introduce un número decimal con punto: \")\n",
    "numero"
   ]
  },
  {
   "cell_type": "code",
   "execution_count": 2,
   "metadata": {},
   "outputs": [
    {
     "data": {
      "text/plain": [
       "str"
      ]
     },
     "execution_count": 2,
     "metadata": {},
     "output_type": "execute_result"
    }
   ],
   "source": [
    "type(numero)"
   ]
  },
  {
   "cell_type": "code",
   "execution_count": 3,
   "metadata": {},
   "outputs": [
    {
     "data": {
      "text/plain": [
       "10.5"
      ]
     },
     "execution_count": 3,
     "metadata": {},
     "output_type": "execute_result"
    }
   ],
   "source": [
    "numero = float(numero)\n",
    "numero"
   ]
  },
  {
   "cell_type": "code",
   "execution_count": 4,
   "metadata": {},
   "outputs": [
    {
     "data": {
      "text/plain": [
       "10.5"
      ]
     },
     "execution_count": 4,
     "metadata": {},
     "output_type": "execute_result"
    }
   ],
   "source": [
    "# tab -> autocompleta texto\n",
    "numero"
   ]
  },
  {
   "cell_type": "code",
   "execution_count": 5,
   "metadata": {},
   "outputs": [
    {
     "data": {
      "text/plain": [
       "float"
      ]
     },
     "execution_count": 5,
     "metadata": {},
     "output_type": "execute_result"
    }
   ],
   "source": [
    "type(numero)"
   ]
  },
  {
   "cell_type": "code",
   "execution_count": 6,
   "metadata": {},
   "outputs": [
    {
     "data": {
      "text/plain": [
       "10.65"
      ]
     },
     "execution_count": 6,
     "metadata": {},
     "output_type": "execute_result"
    }
   ],
   "source": [
    "# shift + tab -> documentacion de la funcion que estoy empleando\n",
    "decimal = float(input(\"Ingrese un valor numerico:  \"))  \n",
    "decimal"
   ]
  },
  {
   "cell_type": "code",
   "execution_count": 7,
   "metadata": {},
   "outputs": [
    {
     "ename": "TypeError",
     "evalue": "can only concatenate str (not \"int\") to str",
     "output_type": "error",
     "traceback": [
      "\u001b[0;31m---------------------------------------------------------------------------\u001b[0m",
      "\u001b[0;31mTypeError\u001b[0m                                 Traceback (most recent call last)",
      "Cell \u001b[0;32mIn[7], line 5\u001b[0m\n\u001b[1;32m      1\u001b[0m \u001b[38;5;66;03m# CUIDADO -> recordar que input retorna un str\u001b[39;00m\n\u001b[1;32m      3\u001b[0m edad \u001b[38;5;241m=\u001b[39m \u001b[38;5;28minput\u001b[39m(\u001b[38;5;124m'\u001b[39m\u001b[38;5;124mingrese su edad\u001b[39m\u001b[38;5;124m'\u001b[39m)\n\u001b[0;32m----> 5\u001b[0m \u001b[43medad\u001b[49m\u001b[43m \u001b[49m\u001b[38;5;241;43m+\u001b[39;49m\u001b[43m \u001b[49m\u001b[38;5;241;43m2\u001b[39;49m\n",
      "\u001b[0;31mTypeError\u001b[0m: can only concatenate str (not \"int\") to str"
     ]
    }
   ],
   "source": [
    "# CUIDADO -> recordar que input retorna un str\n",
    "\n",
    "edad = input('ingrese su edad')\n",
    "\n",
    "edad + 2\n"
   ]
  },
  {
   "cell_type": "markdown",
   "metadata": {},
   "source": [
    "## 2. Entrada de datos por Argumentos"
   ]
  },
  {
   "cell_type": "markdown",
   "metadata": {},
   "source": [
    "Para poder enviar información a un script y manejarla, tenemos que utilizar la librería de sistema [sys](https://www.geeksforgeeks.org/how-to-use-sys-argv-in-python/). En ella encontraremos la lista argv que almacena los argumentos enviados al script."
   ]
  },
  {
   "cell_type": "code",
   "execution_count": 8,
   "metadata": {},
   "outputs": [
    {
     "name": "stdout",
     "output_type": "stream",
     "text": [
      "['/home/codespace/.local/lib/python3.10/site-packages/ipykernel_launcher.py', '--f=/home/codespace/.local/share/jupyter/runtime/kernel-v2-91143YM6Tr1DMnH.json']\n"
     ]
    }
   ],
   "source": [
    "# Hacer en vscode\n",
    "import sys\n",
    "print(sys.argv)"
   ]
  },
  {
   "cell_type": "markdown",
   "metadata": {},
   "source": [
    "## 3. Salida de información (Output)"
   ]
  },
  {
   "cell_type": "markdown",
   "metadata": {},
   "source": [
    "La función print nos ayudará a realizar salidas de información"
   ]
  },
  {
   "cell_type": "code",
   "execution_count": 9,
   "metadata": {},
   "outputs": [
    {
     "name": "stdout",
     "output_type": "stream",
     "text": [
      "hola\n"
     ]
    }
   ],
   "source": [
    "print('hola')"
   ]
  },
  {
   "cell_type": "code",
   "execution_count": 10,
   "metadata": {},
   "outputs": [
    {
     "name": "stdout",
     "output_type": "stream",
     "text": [
      "El valor de la suma es 10\n",
      "El valor de la suma es: 10\n",
      "El valor de la suma es: 10\n"
     ]
    }
   ],
   "source": [
    "## Nota -> Agregando una variable a la cadena de impresión\n",
    "\n",
    "suma = 3 +7 # int\n",
    "\n",
    "# Opcion 1\n",
    "print(\"El valor de la suma es \"+  str(suma)) # str(suma) -> concadenacion solo sirve para strings\n",
    "\n",
    "# Opcion 2 -> Mejor opcion\n",
    "print(f\"El valor de la suma es: {suma}\") # formatea el numero a texto\n",
    "\n",
    "# opcion 3 -> Otra buena Opcion\n",
    "print(\"El valor de la suma es: {}\".format(suma))\n",
    "\n"
   ]
  },
  {
   "cell_type": "markdown",
   "metadata": {},
   "source": [
    "# EJERCICIOS"
   ]
  },
  {
   "cell_type": "markdown",
   "metadata": {},
   "source": [
    "#### 1. Realiza un programa que lea 2 números por teclado y determine los siguientes aspectos (es suficiene con mostrar True o False):\n",
    "\n",
    "- Si los dos números son iguales\n",
    "- Si los dos números son diferentes\n",
    "- Si el primero es mayor que el segundo\n",
    "- Si el segundo es mayor o igual que el primero"
   ]
  },
  {
   "cell_type": "code",
   "execution_count": 12,
   "metadata": {},
   "outputs": [
    {
     "name": "stdout",
     "output_type": "stream",
     "text": [
      "False\n",
      "True\n",
      "True\n",
      "False\n"
     ]
    }
   ],
   "source": [
    "a = float(input(\"Ingrese un primer valor: \"))\n",
    "b = float(input(\"Ingrese un primer valor: \"))\n",
    "\n",
    "print(a == b)\n",
    "print(a != b)\n",
    "print(a > b)\n",
    "print(b >= a)"
   ]
  },
  {
   "cell_type": "markdown",
   "metadata": {},
   "source": [
    "### 2. \n",
    "Una panadería vende barras de pan a 3.49€ cada una. El pan que no es del día tiene un descuento del 60%. Escribir un programa que comience leyendo el número de barras vendidas que no son del día. Después el programa debe mostrar el precio habitual de una barra de pan, el descuento que se le hace por no ser fresca y el coste final total."
   ]
  },
  {
   "cell_type": "code",
   "execution_count": 19,
   "metadata": {},
   "outputs": [
    {
     "name": "stdout",
     "output_type": "stream",
     "text": [
      "Barras vendidas que no son del día: 5\n",
      "Precio habitual de una barra de pan: 3.49\n",
      "Descuento por no ser fresca: 60.0 %\n",
      "El costo final es: 6.98\n"
     ]
    }
   ],
   "source": [
    "precio_pan = 3.49\n",
    "descuento = 0.6\n",
    "precio_pan_no_al_dia = precio_pan * (1 - descuento)\n",
    "\n",
    "Vendidas_no_dia = int(input(\"Ingrese el número de barras que no son del día: \"))\n",
    "print('Barras vendidas que no son del día:', Vendidas_no_dia)\n",
    "print('Precio habitual de una barra de pan:', precio_pan)\n",
    "print('Descuento por no ser fresca:', descuento * 100, '%')\n",
    "\n",
    "Costo_Final = Vendidas_no_dia * precio_pan_no_al_dia\n",
    "print('El costo final es:', Costo_Final)\n"
   ]
  },
  {
   "cell_type": "markdown",
   "metadata": {},
   "source": [
    "### 3. \n",
    "Escribir un programa que pida al usuario su peso (en kg) y estatura (en metros), calcule el índice de masa corporal y lo almacene en una variable, y muestre por pantalla la frase Tu índice de masa corporal es <imc> donde <imc> es el índice de masa corporal calculado redondeado con dos decimales.\n",
    "\n",
    "\n"
   ]
  },
  {
   "cell_type": "code",
   "execution_count": 3,
   "metadata": {},
   "outputs": [
    {
     "name": "stdout",
     "output_type": "stream",
     "text": [
      "Su indice de masa corporal con peso 50.5 y altura 1.56 es: 20.751150558842866\n"
     ]
    }
   ],
   "source": [
    "peso = float(input('Ingrese el peso: '))\n",
    "altura = float(input('Ingrese la altura: '))\n",
    "IMC = peso / altura ** 2\n",
    "\n",
    "print(f'Su indice de masa corporal con peso {peso} y altura {altura} es: {IMC}')"
   ]
  },
  {
   "cell_type": "markdown",
   "metadata": {},
   "source": [
    "4. \n",
    "\n",
    "Escriba un programa python que solicite un texto por teclado y convierta todos los carácteres en minuscula. \n",
    "Ejemplo\n",
    "\n",
    "texto ingresado -> \"Hola AmigOs\"\n",
    "resultado -> \"hola amigos\""
   ]
  },
  {
   "cell_type": "code",
   "execution_count": 8,
   "metadata": {},
   "outputs": [
    {
     "name": "stdout",
     "output_type": "stream",
     "text": [
      "Texto en minúsculas: hola amigos\n"
     ]
    }
   ],
   "source": [
    "texto = input(\"Ingrese un texto: \")\n",
    "\n",
    "texto_min = texto.lower()\n",
    "\n",
    "print(\"Texto en minúsculas:\", texto_min )"
   ]
  }
 ],
 "metadata": {
  "kernelspec": {
   "display_name": "Python 3 (ipykernel)",
   "language": "python",
   "name": "python3"
  },
  "language_info": {
   "codemirror_mode": {
    "name": "ipython",
    "version": 3
   },
   "file_extension": ".py",
   "mimetype": "text/x-python",
   "name": "python",
   "nbconvert_exporter": "python",
   "pygments_lexer": "ipython3",
   "version": "3.10.13"
  }
 },
 "nbformat": 4,
 "nbformat_minor": 4
}
